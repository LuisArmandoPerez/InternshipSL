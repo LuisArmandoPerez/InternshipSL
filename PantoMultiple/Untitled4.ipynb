{
 "cells": [
  {
   "cell_type": "code",
   "execution_count": 1,
   "metadata": {},
   "outputs": [
    {
     "name": "stderr",
     "output_type": "stream",
     "text": [
      "Using TensorFlow backend.\n"
     ]
    }
   ],
   "source": [
    "from UNET_Model import UNET\n",
    "from AsbestosModels import AsbestosModels\n",
    "from DataPantograph import DataPantograph\n",
    "import numpy as np"
   ]
  },
  {
   "cell_type": "code",
   "execution_count": 2,
   "metadata": {},
   "outputs": [
    {
     "name": "stdout",
     "output_type": "stream",
     "text": [
      "Model number 0 : PData_1Base_Train : parameters {'S': 0, 'BT': 10, 'MD': 0, 'L': 3, 'D': 455, 'BV': 1, 'E': 70}\n",
      "Model number 1 : PData_1Base_Train : parameters {'S': 0, 'BT': 10, 'MD': 0, 'L': 3, 'D': 455, 'BV': 1, 'E': 70}\n",
      "Model number 2 : PData_1Base_Train : parameters {'S': 0, 'BT': 10, 'MD': 0, 'L': 3, 'D': 455, 'BV': 1, 'E': 70}\n",
      "Model number 3 : PData_1Base_Train : parameters {'S': 0, 'BT': 10, 'MD': 0, 'L': 3, 'D': 455, 'BV': 1, 'E': 70}\n",
      "Model number 4 : PData_1Base_Train : parameters {'S': 0, 'BT': 10, 'MD': 0, 'L': 3, 'D': 455, 'BV': 1, 'E': 70}\n",
      "Model number 5 : PData_1Base_Train : parameters {'S': 0, 'BT': 10, 'MD': 0, 'L': 3, 'D': 455, 'BV': 1, 'E': 70}\n",
      "Model number 6 : PData_1Base_Train : parameters {'S': 0, 'BT': 10, 'MD': 0, 'L': 3, 'D': 455, 'BV': 1, 'E': 70}\n",
      "Model number 7 : PData_1Base_Train : parameters {'S': 0, 'BT': 10, 'MD': 0, 'L': 1, 'D': 455, 'BV': 1, 'E': 70}\n",
      "Model number 8 : PData_1Base_Train : parameters {'S': 0, 'BT': 10, 'MD': 0, 'L': 3, 'D': 455, 'BV': 1, 'E': 150}\n",
      "Model number 9 : PData_1Base_Train : parameters {'S': 0, 'BT': 10, 'MD': 0, 'L': 3, 'D': 455, 'BV': 1, 'E': 70}\n",
      "Model number 10 : PData_1Hard_Examples BEST   : parameters {'S': 2, 'BT': 10, 'MD': 2, 'L': 3, 'D': 455, 'BV': 1, 'E': 70}\n",
      "Model number 11 : PData_1Hard_Examples  : parameters {'S': 2, 'BT': 10, 'MD': 2, 'L': 3, 'D': 455, 'BV': 1, 'E': 70}\n",
      "Model number 12 : PData_1Hard_ExamplesHE0 BEST   : parameters {'S': 2, 'BT': 10, 'MD': 2, 'L': 3, 'D': 523, 'BV': 1, 'E': 70}\n",
      "Model number 13 : PData_1Hard_ExamplesHE0  : parameters {'S': 2, 'BT': 10, 'MD': 2, 'L': 3, 'D': 523, 'BV': 1, 'E': 70}\n",
      "Model number 14 : PData_1Hard_ExamplesHE1  : parameters {'S': 2, 'BT': 10, 'MD': 2, 'L': 3, 'D': 591, 'BV': 1, 'E': 70}\n",
      "Model number 15 : PData_1HE2Base_Train BEST   : parameters {'S': 0, 'BT': 10, 'MD': 0, 'L': 3, 'D': 590, 'BV': 1, 'E': 150}\n",
      "Model number 16 : PData_1HE2Base_Train  : parameters {'S': 0, 'BT': 10, 'MD': 0, 'L': 3, 'D': 590, 'BV': 1, 'E': 150}\n",
      "Model number 17 : PData_1Only_Chip_Val : parameters {'S': 0, 'BT': 10, 'MD': 0, 'L': 3, 'D': 455, 'BV': 1, 'E': 70}\n",
      "Model number 18 : PData_1Only_Chip_Val : parameters {'S': 0, 'BT': 10, 'MD': 0, 'L': 1, 'D': 455, 'BV': 1, 'E': 70}\n",
      "Model number 19 : PData_1Only_Chip_Val : parameters {'S': 0, 'BT': 10, 'MD': 0, 'L': 2, 'D': 455, 'BV': 1, 'E': 70}\n",
      "Model number 20 : PData_1Only_Chip_Val : parameters {'S': 0, 'BT': 10, 'MD': 0, 'L': 3, 'D': 455, 'BV': 1, 'E': 70}\n"
     ]
    }
   ],
   "source": [
    "AM = AsbestosModels('./')"
   ]
  },
  {
   "cell_type": "code",
   "execution_count": 7,
   "metadata": {},
   "outputs": [
    {
     "name": "stdout",
     "output_type": "stream",
     "text": [
      "[<tf.Tensor 'input_4:0' shape=(?, ?, ?, 3) dtype=float32>, <tf.Tensor 'conv2d_35/Relu:0' shape=(?, ?, ?, 32) dtype=float32>, <tf.Tensor 'max_pooling2d_7/MaxPool:0' shape=(?, ?, ?, 32) dtype=float32>, <tf.Tensor 'conv2d_37/Relu:0' shape=(?, ?, ?, 64) dtype=float32>, <tf.Tensor 'max_pooling2d_8/MaxPool:0' shape=(?, ?, ?, 64) dtype=float32>, <tf.Tensor 'conv2d_39/Relu:0' shape=(?, ?, ?, 128) dtype=float32>, <tf.Tensor 'concatenate_7/concat:0' shape=(?, ?, ?, 192) dtype=float32>, <tf.Tensor 'conv2d_41/Relu:0' shape=(?, ?, ?, 64) dtype=float32>, <tf.Tensor 'concatenate_8/concat:0' shape=(?, ?, ?, 96) dtype=float32>, <tf.Tensor 'conv2d_43/Relu:0' shape=(?, ?, ?, 32) dtype=float32>, <tf.Tensor 'conv2d_44/Sigmoid:0' shape=(?, ?, ?, 1) dtype=float32>]\n"
     ]
    }
   ],
   "source": [
    "model,model_name = AM.extract_model(0,3)"
   ]
  },
  {
   "cell_type": "code",
   "execution_count": 12,
   "metadata": {
    "collapsed": true
   },
   "outputs": [],
   "source": []
  },
  {
   "cell_type": "code",
   "execution_count": 18,
   "metadata": {},
   "outputs": [
    {
     "name": "stdout",
     "output_type": "stream",
     "text": [
      "The data set already exists. Loading the specified data ...\n",
      "\n",
      "Size of training set: 34\n",
      "\n",
      "Size of validation set: 3\n",
      "\n",
      "Size of test set: 15\n",
      "\n"
     ]
    }
   ],
   "source": []
  },
  {
   "cell_type": "code",
   "execution_count": 37,
   "metadata": {
    "collapsed": true
   },
   "outputs": [],
   "source": []
  },
  {
   "cell_type": "code",
   "execution_count": 26,
   "metadata": {},
   "outputs": [
    {
     "data": {
      "image/png": "[encoded data removed]",
      "text/plain": [
       "<matplotlib.figure.Figure at 0x1fad31930b8>"
      ]
     },
     "metadata": {},
     "output_type": "display_data"
    }
   ],
   "source": [
    "import matplotlib.pyplot as plt\n"
   ]
  },
  {
   "cell_type": "code",
   "execution_count": null,
   "metadata": {
    "collapsed": true
   },
   "outputs": [],
   "source": []
  },
  {
   "cell_type": "code",
   "execution_count": 29,
   "metadata": {
    "collapsed": true
   },
   "outputs": [],
   "source": []
  },
  {
   "cell_type": "code",
   "execution_count": 43,
   "metadata": {
    "collapsed": true
   },
   "outputs": [],
   "source": [
    "from os.path import join\n",
    "path = './20171030 Amazon PData_1'\n",
    "model_name = 'PData_1Only_Chip_ValLR1 L 1 BT 10 BV 1 E 70 D 455 MD False SX 80SY80 HEE 0 HEPI 0 .h5'\n",
    "model_name = 'PData_1HE2Base_Train L 3 BT 10 BV 1 E 150 D 590 MD False SX 80SY80 HEE 0 HEPI 0 .h5'\n",
    "model = UNET(classes=2, initial_features=32, num_layers=3,channels = 3)\n",
    "model.load_weights(join(path, model_name))"
   ]
  },
  {
   "cell_type": "code",
   "execution_count": 33,
   "metadata": {},
   "outputs": [
    {
     "name": "stdout",
     "output_type": "stream",
     "text": [
      "The data set already exists. Loading the specified data ...\n",
      "\n",
      "Size of training set: 34\n",
      "\n",
      "Size of validation set: 3\n",
      "\n",
      "Size of test set: 15\n",
      "\n"
     ]
    }
   ],
   "source": [
    "import cv2\n",
    "from os.path import join,exists\n",
    "from os import makedirs\n",
    "import matplotlib.pyplot as plt\n",
    "DP = DataPantograph('./Both','Final_Report',(128,128))"
   ]
  },
  {
   "cell_type": "code",
   "execution_count": 34,
   "metadata": {},
   "outputs": [
    {
     "data": {
      "text/plain": [
       "['First_Stage BEST  L 3 BT 10 BV 1 E 70 D 308 MD True SX 128SY128 HEE 0 HEPI 0 BN 0 DPT 0 DPP 100 .h5',\n",
       " 'First_Stage BEST  L 3 BT 10 BV 1 E 70 D 308 MD True SX 128SY128 HEE 0 HEPI 0 BN 0 DPT 1 DPP 50 .h5',\n",
       " 'First_Stage BEST  L 3 BT 10 BV 1 E 70 D 308 MD True SX 128SY128 HEE 0 HEPI 0 BN 1 DPT 0 DPP 100 .h5',\n",
       " 'First_Stage BEST  L 3 BT 10 BV 1 E 70 D 308 MD True SX 128SY128 HEE 0 HEPI 0 BN 1 DPT 1 DPP 50 .h5',\n",
       " 'Hard_Examples_Preproc BEST  L 3 BT 10 BV 1 E 50 D 308 MD False SX 128SY128 HEE 2 HEPI 2 BN 1 DPT 0 DPP 100 .h5',\n",
       " 'Hard_Examples_PreprocHE0 BEST  L 3 BT 10 BV 1 E 50 D 376 MD False SX 128SY128 HEE 2 HEPI 2 BN 1 DPT 0 DPP 100 .h5',\n",
       " 'Hard_Examples_PreprocHE1 BEST  L 3 BT 10 BV 1 E 50 D 444 MD False SX 128SY128 HEE 2 HEPI 2 BN 1 DPT 0 DPP 100 .h5',\n",
       " 'Preproc BEST  L 3 BT 10 BV 1 E 70 D 308 MD True SX 128SY128 HEE 0 HEPI 0 BN 1 DPT 0 DPP 100 .h5',\n",
       " 'Preproc BEST  L 3 BT 10 BV 1 E 70 D 99 MD True SX 128SY128 HEE 0 HEPI 0 BN 0 DPT 1 DPP 50 .h5']"
      ]
     },
     "execution_count": 34,
     "metadata": {},
     "output_type": "execute_result"
    }
   ],
   "source": [
    "AM.models"
   ]
  },
  {
   "cell_type": "code",
   "execution_count": 3,
   "metadata": {},
   "outputs": [
    {
     "name": "stdout",
     "output_type": "stream",
     "text": [
      "The data set already exists. Loading the specified data ...\n",
      "\n",
      "Size of training set: 34\n",
      "\n",
      "Size of validation set: 3\n",
      "\n",
      "Size of test set: 15\n",
      "\n",
      "(128, 128)\n",
      "(149, 1406)\n",
      "(128, 128)\n",
      "(150, 1403)\n",
      "(128, 128)\n",
      "(143, 1397)\n",
      "(128, 128)\n",
      "(149, 1365)\n",
      "(128, 128)\n",
      "(149, 1410)\n",
      "(128, 128)\n",
      "(146, 1403)\n",
      "(128, 128)\n",
      "(147, 1402)\n",
      "(128, 128)\n",
      "(148, 1411)\n",
      "(128, 128)\n",
      "(148, 1372)\n",
      "(128, 128)\n",
      "(141, 1391)\n",
      "(128, 128)\n",
      "(151, 1379)\n",
      "(128, 128)\n",
      "(151, 1392)\n",
      "(128, 128)\n",
      "(151, 1405)\n",
      "(128, 128)\n",
      "(150, 1396)\n",
      "(128, 128)\n",
      "(144, 1382)\n",
      "(128, 128)\n",
      "(152, 1283)\n",
      "(128, 128)\n",
      "(150, 1290)\n",
      "(128, 128)\n",
      "(147, 1401)\n",
      "(128, 128)\n",
      "(143, 1408)\n",
      "(128, 128)\n",
      "(141, 1367)\n",
      "(128, 128)\n",
      "(146, 1399)\n",
      "(128, 128)\n",
      "(144, 1401)\n",
      "(128, 128)\n",
      "(145, 1366)\n",
      "(128, 128)\n",
      "(149, 1394)\n",
      "(128, 128)\n",
      "(143, 1406)\n",
      "(128, 128)\n",
      "(144, 1391)\n",
      "(128, 128)\n",
      "(140, 1391)\n",
      "(128, 128)\n",
      "(149, 1394)\n",
      "(128, 128)\n",
      "(159, 1364)\n",
      "(128, 128)\n",
      "(145, 1305)\n",
      "(128, 128)\n",
      "(148, 1413)\n",
      "(128, 128)\n",
      "(145, 1393)\n",
      "(128, 128)\n",
      "(146, 1390)\n",
      "(128, 128)\n",
      "(151, 1395)\n",
      "Loading the model number: 1\n",
      "[<tf.Tensor 'input_1:0' shape=(?, ?, ?, 3) dtype=float32>, <tf.Tensor 'conv2d_2/Relu:0' shape=(?, ?, ?, 32) dtype=float32>, <tf.Tensor 'max_pooling2d_1/MaxPool:0' shape=(?, ?, ?, 32) dtype=float32>, <tf.Tensor 'conv2d_4/Relu:0' shape=(?, ?, ?, 64) dtype=float32>, <tf.Tensor 'max_pooling2d_2/MaxPool:0' shape=(?, ?, ?, 64) dtype=float32>, <tf.Tensor 'conv2d_6/Relu:0' shape=(?, ?, ?, 128) dtype=float32>, <tf.Tensor 'concatenate_1/concat:0' shape=(?, ?, ?, 192) dtype=float32>, <tf.Tensor 'conv2d_8/Relu:0' shape=(?, ?, ?, 64) dtype=float32>, <tf.Tensor 'concatenate_2/concat:0' shape=(?, ?, ?, 96) dtype=float32>, <tf.Tensor 'conv2d_10/Relu:0' shape=(?, ?, ?, 32) dtype=float32>, <tf.Tensor 'conv2d_11/Sigmoid:0' shape=(?, ?, ?, 1) dtype=float32>]\n",
      "Loading the model number: 2\n",
      "[<tf.Tensor 'input_2:0' shape=(?, ?, ?, 3) dtype=float32>, <tf.Tensor 'conv2d_13/Relu:0' shape=(?, ?, ?, 32) dtype=float32>, <tf.Tensor 'max_pooling2d_3/MaxPool:0' shape=(?, ?, ?, 32) dtype=float32>, <tf.Tensor 'conv2d_15/Relu:0' shape=(?, ?, ?, 64) dtype=float32>, <tf.Tensor 'max_pooling2d_4/MaxPool:0' shape=(?, ?, ?, 64) dtype=float32>, <tf.Tensor 'conv2d_17/Relu:0' shape=(?, ?, ?, 128) dtype=float32>, <tf.Tensor 'concatenate_3/concat:0' shape=(?, ?, ?, 192) dtype=float32>, <tf.Tensor 'conv2d_19/Relu:0' shape=(?, ?, ?, 64) dtype=float32>, <tf.Tensor 'concatenate_4/concat:0' shape=(?, ?, ?, 96) dtype=float32>, <tf.Tensor 'conv2d_21/Relu:0' shape=(?, ?, ?, 32) dtype=float32>, <tf.Tensor 'conv2d_22/Sigmoid:0' shape=(?, ?, ?, 1) dtype=float32>]\n",
      "Loading the model number: 3\n",
      "[<tf.Tensor 'input_3:0' shape=(?, ?, ?, 3) dtype=float32>, <tf.Tensor 'conv2d_24/Relu:0' shape=(?, ?, ?, 32) dtype=float32>, <tf.Tensor 'max_pooling2d_5/MaxPool:0' shape=(?, ?, ?, 32) dtype=float32>, <tf.Tensor 'conv2d_26/Relu:0' shape=(?, ?, ?, 64) dtype=float32>, <tf.Tensor 'max_pooling2d_6/MaxPool:0' shape=(?, ?, ?, 64) dtype=float32>, <tf.Tensor 'conv2d_28/Relu:0' shape=(?, ?, ?, 128) dtype=float32>, <tf.Tensor 'concatenate_5/concat:0' shape=(?, ?, ?, 192) dtype=float32>, <tf.Tensor 'conv2d_30/Relu:0' shape=(?, ?, ?, 64) dtype=float32>, <tf.Tensor 'concatenate_6/concat:0' shape=(?, ?, ?, 96) dtype=float32>, <tf.Tensor 'conv2d_32/Relu:0' shape=(?, ?, ?, 32) dtype=float32>, <tf.Tensor 'conv2d_33/Sigmoid:0' shape=(?, ?, ?, 1) dtype=float32>]\n",
      "Loading the model number: 4\n",
      "[<tf.Tensor 'input_4:0' shape=(?, ?, ?, 3) dtype=float32>, <tf.Tensor 'conv2d_35/Relu:0' shape=(?, ?, ?, 32) dtype=float32>, <tf.Tensor 'max_pooling2d_7/MaxPool:0' shape=(?, ?, ?, 32) dtype=float32>, <tf.Tensor 'conv2d_37/Relu:0' shape=(?, ?, ?, 64) dtype=float32>, <tf.Tensor 'max_pooling2d_8/MaxPool:0' shape=(?, ?, ?, 64) dtype=float32>, <tf.Tensor 'conv2d_39/Relu:0' shape=(?, ?, ?, 128) dtype=float32>, <tf.Tensor 'concatenate_7/concat:0' shape=(?, ?, ?, 192) dtype=float32>, <tf.Tensor 'conv2d_41/Relu:0' shape=(?, ?, ?, 64) dtype=float32>, <tf.Tensor 'concatenate_8/concat:0' shape=(?, ?, ?, 96) dtype=float32>, <tf.Tensor 'conv2d_43/Relu:0' shape=(?, ?, ?, 32) dtype=float32>, <tf.Tensor 'conv2d_44/Sigmoid:0' shape=(?, ?, ?, 1) dtype=float32>]\n",
      "Loading the model number: 5\n",
      "[<tf.Tensor 'input_5:0' shape=(?, ?, ?, 3) dtype=float32>, <tf.Tensor 'conv2d_46/Relu:0' shape=(?, ?, ?, 32) dtype=float32>, <tf.Tensor 'max_pooling2d_9/MaxPool:0' shape=(?, ?, ?, 32) dtype=float32>, <tf.Tensor 'conv2d_48/Relu:0' shape=(?, ?, ?, 64) dtype=float32>, <tf.Tensor 'max_pooling2d_10/MaxPool:0' shape=(?, ?, ?, 64) dtype=float32>, <tf.Tensor 'conv2d_50/Relu:0' shape=(?, ?, ?, 128) dtype=float32>, <tf.Tensor 'concatenate_9/concat:0' shape=(?, ?, ?, 192) dtype=float32>, <tf.Tensor 'conv2d_52/Relu:0' shape=(?, ?, ?, 64) dtype=float32>, <tf.Tensor 'concatenate_10/concat:0' shape=(?, ?, ?, 96) dtype=float32>, <tf.Tensor 'conv2d_54/Relu:0' shape=(?, ?, ?, 32) dtype=float32>, <tf.Tensor 'conv2d_55/Sigmoid:0' shape=(?, ?, ?, 1) dtype=float32>]\n",
      "Loading the model number: 6\n",
      "[<tf.Tensor 'input_6:0' shape=(?, ?, ?, 3) dtype=float32>, <tf.Tensor 'conv2d_57/Relu:0' shape=(?, ?, ?, 32) dtype=float32>, <tf.Tensor 'max_pooling2d_11/MaxPool:0' shape=(?, ?, ?, 32) dtype=float32>, <tf.Tensor 'conv2d_59/Relu:0' shape=(?, ?, ?, 64) dtype=float32>, <tf.Tensor 'max_pooling2d_12/MaxPool:0' shape=(?, ?, ?, 64) dtype=float32>, <tf.Tensor 'conv2d_61/Relu:0' shape=(?, ?, ?, 128) dtype=float32>, <tf.Tensor 'concatenate_11/concat:0' shape=(?, ?, ?, 192) dtype=float32>, <tf.Tensor 'conv2d_63/Relu:0' shape=(?, ?, ?, 64) dtype=float32>, <tf.Tensor 'concatenate_12/concat:0' shape=(?, ?, ?, 96) dtype=float32>, <tf.Tensor 'conv2d_65/Relu:0' shape=(?, ?, ?, 32) dtype=float32>, <tf.Tensor 'conv2d_66/Sigmoid:0' shape=(?, ?, ?, 1) dtype=float32>]\n",
      "Loading the model number: 7\n",
      "[<tf.Tensor 'input_7:0' shape=(?, ?, ?, 3) dtype=float32>, <tf.Tensor 'conv2d_68/Relu:0' shape=(?, ?, ?, 32) dtype=float32>, <tf.Tensor 'conv2d_69/Sigmoid:0' shape=(?, ?, ?, 1) dtype=float32>]\n",
      "Loading the model number: 8\n",
      "[<tf.Tensor 'input_8:0' shape=(?, ?, ?, 3) dtype=float32>, <tf.Tensor 'conv2d_71/Relu:0' shape=(?, ?, ?, 32) dtype=float32>, <tf.Tensor 'max_pooling2d_13/MaxPool:0' shape=(?, ?, ?, 32) dtype=float32>, <tf.Tensor 'conv2d_73/Relu:0' shape=(?, ?, ?, 64) dtype=float32>, <tf.Tensor 'max_pooling2d_14/MaxPool:0' shape=(?, ?, ?, 64) dtype=float32>, <tf.Tensor 'conv2d_75/Relu:0' shape=(?, ?, ?, 128) dtype=float32>, <tf.Tensor 'concatenate_13/concat:0' shape=(?, ?, ?, 192) dtype=float32>, <tf.Tensor 'conv2d_77/Relu:0' shape=(?, ?, ?, 64) dtype=float32>, <tf.Tensor 'concatenate_14/concat:0' shape=(?, ?, ?, 96) dtype=float32>, <tf.Tensor 'conv2d_79/Relu:0' shape=(?, ?, ?, 32) dtype=float32>, <tf.Tensor 'conv2d_80/Sigmoid:0' shape=(?, ?, ?, 1) dtype=float32>]\n",
      "Loading the model number: 9\n",
      "[<tf.Tensor 'input_9:0' shape=(?, ?, ?, 3) dtype=float32>, <tf.Tensor 'conv2d_82/Relu:0' shape=(?, ?, ?, 32) dtype=float32>, <tf.Tensor 'max_pooling2d_15/MaxPool:0' shape=(?, ?, ?, 32) dtype=float32>, <tf.Tensor 'conv2d_84/Relu:0' shape=(?, ?, ?, 64) dtype=float32>, <tf.Tensor 'max_pooling2d_16/MaxPool:0' shape=(?, ?, ?, 64) dtype=float32>, <tf.Tensor 'conv2d_86/Relu:0' shape=(?, ?, ?, 128) dtype=float32>, <tf.Tensor 'concatenate_15/concat:0' shape=(?, ?, ?, 192) dtype=float32>, <tf.Tensor 'conv2d_88/Relu:0' shape=(?, ?, ?, 64) dtype=float32>, <tf.Tensor 'concatenate_16/concat:0' shape=(?, ?, ?, 96) dtype=float32>, <tf.Tensor 'conv2d_90/Relu:0' shape=(?, ?, ?, 32) dtype=float32>, <tf.Tensor 'conv2d_91/Sigmoid:0' shape=(?, ?, ?, 1) dtype=float32>]\n",
      "Loading the model number: 10\n",
      "[<tf.Tensor 'input_10:0' shape=(?, ?, ?, 3) dtype=float32>, <tf.Tensor 'conv2d_93/Relu:0' shape=(?, ?, ?, 32) dtype=float32>, <tf.Tensor 'max_pooling2d_17/MaxPool:0' shape=(?, ?, ?, 32) dtype=float32>, <tf.Tensor 'conv2d_95/Relu:0' shape=(?, ?, ?, 64) dtype=float32>, <tf.Tensor 'max_pooling2d_18/MaxPool:0' shape=(?, ?, ?, 64) dtype=float32>, <tf.Tensor 'conv2d_97/Relu:0' shape=(?, ?, ?, 128) dtype=float32>, <tf.Tensor 'concatenate_17/concat:0' shape=(?, ?, ?, 192) dtype=float32>, <tf.Tensor 'conv2d_99/Relu:0' shape=(?, ?, ?, 64) dtype=float32>, <tf.Tensor 'concatenate_18/concat:0' shape=(?, ?, ?, 96) dtype=float32>, <tf.Tensor 'conv2d_101/Relu:0' shape=(?, ?, ?, 32) dtype=float32>, <tf.Tensor 'conv2d_102/Sigmoid:0' shape=(?, ?, ?, 1) dtype=float32>]\n",
      "Loading the model number: 11\n"
     ]
    },
    {
     "name": "stdout",
     "output_type": "stream",
     "text": [
      "[<tf.Tensor 'input_11:0' shape=(?, ?, ?, 3) dtype=float32>, <tf.Tensor 'conv2d_104/Relu:0' shape=(?, ?, ?, 32) dtype=float32>, <tf.Tensor 'max_pooling2d_19/MaxPool:0' shape=(?, ?, ?, 32) dtype=float32>, <tf.Tensor 'conv2d_106/Relu:0' shape=(?, ?, ?, 64) dtype=float32>, <tf.Tensor 'max_pooling2d_20/MaxPool:0' shape=(?, ?, ?, 64) dtype=float32>, <tf.Tensor 'conv2d_108/Relu:0' shape=(?, ?, ?, 128) dtype=float32>, <tf.Tensor 'concatenate_19/concat:0' shape=(?, ?, ?, 192) dtype=float32>, <tf.Tensor 'conv2d_110/Relu:0' shape=(?, ?, ?, 64) dtype=float32>, <tf.Tensor 'concatenate_20/concat:0' shape=(?, ?, ?, 96) dtype=float32>, <tf.Tensor 'conv2d_112/Relu:0' shape=(?, ?, ?, 32) dtype=float32>, <tf.Tensor 'conv2d_113/Sigmoid:0' shape=(?, ?, ?, 1) dtype=float32>]\n",
      "Loading the model number: 12\n",
      "[<tf.Tensor 'input_12:0' shape=(?, ?, ?, 3) dtype=float32>, <tf.Tensor 'conv2d_115/Relu:0' shape=(?, ?, ?, 32) dtype=float32>, <tf.Tensor 'max_pooling2d_21/MaxPool:0' shape=(?, ?, ?, 32) dtype=float32>, <tf.Tensor 'conv2d_117/Relu:0' shape=(?, ?, ?, 64) dtype=float32>, <tf.Tensor 'max_pooling2d_22/MaxPool:0' shape=(?, ?, ?, 64) dtype=float32>, <tf.Tensor 'conv2d_119/Relu:0' shape=(?, ?, ?, 128) dtype=float32>, <tf.Tensor 'concatenate_21/concat:0' shape=(?, ?, ?, 192) dtype=float32>, <tf.Tensor 'conv2d_121/Relu:0' shape=(?, ?, ?, 64) dtype=float32>, <tf.Tensor 'concatenate_22/concat:0' shape=(?, ?, ?, 96) dtype=float32>, <tf.Tensor 'conv2d_123/Relu:0' shape=(?, ?, ?, 32) dtype=float32>, <tf.Tensor 'conv2d_124/Sigmoid:0' shape=(?, ?, ?, 1) dtype=float32>]\n"
     ]
    },
    {
     "ename": "KeyboardInterrupt",
     "evalue": "",
     "output_type": "error",
     "traceback": [
      "\u001b[1;31m---------------------------------------------------------------------------\u001b[0m",
      "\u001b[1;31mKeyboardInterrupt\u001b[0m                         Traceback (most recent call last)",
      "\u001b[1;32m<ipython-input-3-2e4eed4d789b>\u001b[0m in \u001b[0;36m<module>\u001b[1;34m()\u001b[0m\n\u001b[0;32m     12\u001b[0m         \u001b[0mimage\u001b[0m \u001b[1;33m=\u001b[0m \u001b[0mcv2\u001b[0m\u001b[1;33m.\u001b[0m\u001b[0mimread\u001b[0m\u001b[1;33m(\u001b[0m\u001b[0mjoin\u001b[0m\u001b[1;33m(\u001b[0m\u001b[0mDP\u001b[0m\u001b[1;33m.\u001b[0m\u001b[0mtemp_test\u001b[0m\u001b[1;33m,\u001b[0m\u001b[0mDP\u001b[0m\u001b[1;33m.\u001b[0m\u001b[0mtest_names_original\u001b[0m\u001b[1;33m[\u001b[0m\u001b[0mi\u001b[0m\u001b[1;33m]\u001b[0m\u001b[1;33m)\u001b[0m\u001b[1;33m)\u001b[0m\u001b[1;33m\u001b[0m\u001b[0m\n\u001b[0;32m     13\u001b[0m         \u001b[0mlabel\u001b[0m \u001b[1;33m=\u001b[0m \u001b[0mcv2\u001b[0m\u001b[1;33m.\u001b[0m\u001b[0mimread\u001b[0m\u001b[1;33m(\u001b[0m\u001b[0mjoin\u001b[0m\u001b[1;33m(\u001b[0m\u001b[0mDP\u001b[0m\u001b[1;33m.\u001b[0m\u001b[0mtemp_test\u001b[0m\u001b[1;33m,\u001b[0m\u001b[0mDP\u001b[0m\u001b[1;33m.\u001b[0m\u001b[0mtest_names_original\u001b[0m\u001b[1;33m[\u001b[0m\u001b[0mi\u001b[0m\u001b[1;33m]\u001b[0m\u001b[1;33m.\u001b[0m\u001b[0mreplace\u001b[0m\u001b[1;33m(\u001b[0m\u001b[1;34m'.png'\u001b[0m\u001b[1;33m,\u001b[0m\u001b[1;34m'_FIB.png'\u001b[0m\u001b[1;33m)\u001b[0m\u001b[1;33m)\u001b[0m\u001b[1;33m)\u001b[0m\u001b[1;33m\u001b[0m\u001b[0m\n\u001b[1;32m---> 14\u001b[1;33m         \u001b[0mprediction\u001b[0m \u001b[1;33m=\u001b[0m \u001b[0mmodel\u001b[0m\u001b[1;33m.\u001b[0m\u001b[0mpredict\u001b[0m\u001b[1;33m(\u001b[0m\u001b[0mimage\u001b[0m\u001b[1;33m[\u001b[0m\u001b[0mnp\u001b[0m\u001b[1;33m.\u001b[0m\u001b[0mnewaxis\u001b[0m\u001b[1;33m]\u001b[0m\u001b[1;33m)\u001b[0m\u001b[1;33m\u001b[0m\u001b[0m\n\u001b[0m\u001b[0;32m     15\u001b[0m         \u001b[0msqueezed\u001b[0m \u001b[1;33m=\u001b[0m \u001b[0mnp\u001b[0m\u001b[1;33m.\u001b[0m\u001b[0msqueeze\u001b[0m\u001b[1;33m(\u001b[0m\u001b[0mprediction\u001b[0m\u001b[1;33m,\u001b[0m\u001b[0maxis\u001b[0m \u001b[1;33m=\u001b[0m \u001b[1;36m0\u001b[0m\u001b[1;33m)\u001b[0m\u001b[1;33m\u001b[0m\u001b[0m\n\u001b[0;32m     16\u001b[0m         \u001b[0msqueezed\u001b[0m \u001b[1;33m=\u001b[0m \u001b[0mnp\u001b[0m\u001b[1;33m.\u001b[0m\u001b[0msqueeze\u001b[0m\u001b[1;33m(\u001b[0m\u001b[0msqueezed\u001b[0m\u001b[1;33m,\u001b[0m\u001b[0maxis\u001b[0m \u001b[1;33m=\u001b[0m \u001b[1;33m-\u001b[0m\u001b[1;36m1\u001b[0m\u001b[1;33m)\u001b[0m\u001b[1;33m\u001b[0m\u001b[0m\n",
      "\u001b[1;32mC:\\Program Files\\Anaconda3\\lib\\site-packages\\keras\\engine\\training.py\u001b[0m in \u001b[0;36mpredict\u001b[1;34m(self, x, batch_size, verbose, steps)\u001b[0m\n\u001b[0;32m   1763\u001b[0m         \u001b[0mf\u001b[0m \u001b[1;33m=\u001b[0m \u001b[0mself\u001b[0m\u001b[1;33m.\u001b[0m\u001b[0mpredict_function\u001b[0m\u001b[1;33m\u001b[0m\u001b[0m\n\u001b[0;32m   1764\u001b[0m         return self._predict_loop(f, ins, batch_size=batch_size,\n\u001b[1;32m-> 1765\u001b[1;33m                                   verbose=verbose, steps=steps)\n\u001b[0m\u001b[0;32m   1766\u001b[0m \u001b[1;33m\u001b[0m\u001b[0m\n\u001b[0;32m   1767\u001b[0m     def train_on_batch(self, x, y,\n",
      "\u001b[1;32mC:\\Program Files\\Anaconda3\\lib\\site-packages\\keras\\engine\\training.py\u001b[0m in \u001b[0;36m_predict_loop\u001b[1;34m(self, f, ins, batch_size, verbose, steps)\u001b[0m\n\u001b[0;32m   1297\u001b[0m                 \u001b[1;32melse\u001b[0m\u001b[1;33m:\u001b[0m\u001b[1;33m\u001b[0m\u001b[0m\n\u001b[0;32m   1298\u001b[0m                     \u001b[0mins_batch\u001b[0m \u001b[1;33m=\u001b[0m \u001b[0m_slice_arrays\u001b[0m\u001b[1;33m(\u001b[0m\u001b[0mins\u001b[0m\u001b[1;33m,\u001b[0m \u001b[0mbatch_ids\u001b[0m\u001b[1;33m)\u001b[0m\u001b[1;33m\u001b[0m\u001b[0m\n\u001b[1;32m-> 1299\u001b[1;33m                 \u001b[0mbatch_outs\u001b[0m \u001b[1;33m=\u001b[0m \u001b[0mf\u001b[0m\u001b[1;33m(\u001b[0m\u001b[0mins_batch\u001b[0m\u001b[1;33m)\u001b[0m\u001b[1;33m\u001b[0m\u001b[0m\n\u001b[0m\u001b[0;32m   1300\u001b[0m                 \u001b[1;32mif\u001b[0m \u001b[1;32mnot\u001b[0m \u001b[0misinstance\u001b[0m\u001b[1;33m(\u001b[0m\u001b[0mbatch_outs\u001b[0m\u001b[1;33m,\u001b[0m \u001b[0mlist\u001b[0m\u001b[1;33m)\u001b[0m\u001b[1;33m:\u001b[0m\u001b[1;33m\u001b[0m\u001b[0m\n\u001b[0;32m   1301\u001b[0m                     \u001b[0mbatch_outs\u001b[0m \u001b[1;33m=\u001b[0m \u001b[1;33m[\u001b[0m\u001b[0mbatch_outs\u001b[0m\u001b[1;33m]\u001b[0m\u001b[1;33m\u001b[0m\u001b[0m\n",
      "\u001b[1;32mC:\\Program Files\\Anaconda3\\lib\\site-packages\\keras\\backend\\tensorflow_backend.py\u001b[0m in \u001b[0;36m__call__\u001b[1;34m(self, inputs)\u001b[0m\n\u001b[0;32m   2350\u001b[0m         \u001b[0msession\u001b[0m \u001b[1;33m=\u001b[0m \u001b[0mget_session\u001b[0m\u001b[1;33m(\u001b[0m\u001b[1;33m)\u001b[0m\u001b[1;33m\u001b[0m\u001b[0m\n\u001b[0;32m   2351\u001b[0m         updated = session.run(fetches=fetches, feed_dict=feed_dict,\n\u001b[1;32m-> 2352\u001b[1;33m                               **self.session_kwargs)\n\u001b[0m\u001b[0;32m   2353\u001b[0m         \u001b[1;32mreturn\u001b[0m \u001b[0mupdated\u001b[0m\u001b[1;33m[\u001b[0m\u001b[1;33m:\u001b[0m\u001b[0mlen\u001b[0m\u001b[1;33m(\u001b[0m\u001b[0mself\u001b[0m\u001b[1;33m.\u001b[0m\u001b[0moutputs\u001b[0m\u001b[1;33m)\u001b[0m\u001b[1;33m]\u001b[0m\u001b[1;33m\u001b[0m\u001b[0m\n\u001b[0;32m   2354\u001b[0m \u001b[1;33m\u001b[0m\u001b[0m\n",
      "\u001b[1;32mC:\\Program Files\\Anaconda3\\lib\\site-packages\\tensorflow\\python\\client\\session.py\u001b[0m in \u001b[0;36mrun\u001b[1;34m(self, fetches, feed_dict, options, run_metadata)\u001b[0m\n\u001b[0;32m    887\u001b[0m     \u001b[1;32mtry\u001b[0m\u001b[1;33m:\u001b[0m\u001b[1;33m\u001b[0m\u001b[0m\n\u001b[0;32m    888\u001b[0m       result = self._run(None, fetches, feed_dict, options_ptr,\n\u001b[1;32m--> 889\u001b[1;33m                          run_metadata_ptr)\n\u001b[0m\u001b[0;32m    890\u001b[0m       \u001b[1;32mif\u001b[0m \u001b[0mrun_metadata\u001b[0m\u001b[1;33m:\u001b[0m\u001b[1;33m\u001b[0m\u001b[0m\n\u001b[0;32m    891\u001b[0m         \u001b[0mproto_data\u001b[0m \u001b[1;33m=\u001b[0m \u001b[0mtf_session\u001b[0m\u001b[1;33m.\u001b[0m\u001b[0mTF_GetBuffer\u001b[0m\u001b[1;33m(\u001b[0m\u001b[0mrun_metadata_ptr\u001b[0m\u001b[1;33m)\u001b[0m\u001b[1;33m\u001b[0m\u001b[0m\n",
      "\u001b[1;32mC:\\Program Files\\Anaconda3\\lib\\site-packages\\tensorflow\\python\\client\\session.py\u001b[0m in \u001b[0;36m_run\u001b[1;34m(self, handle, fetches, feed_dict, options, run_metadata)\u001b[0m\n\u001b[0;32m   1118\u001b[0m     \u001b[1;32mif\u001b[0m \u001b[0mfinal_fetches\u001b[0m \u001b[1;32mor\u001b[0m \u001b[0mfinal_targets\u001b[0m \u001b[1;32mor\u001b[0m \u001b[1;33m(\u001b[0m\u001b[0mhandle\u001b[0m \u001b[1;32mand\u001b[0m \u001b[0mfeed_dict_tensor\u001b[0m\u001b[1;33m)\u001b[0m\u001b[1;33m:\u001b[0m\u001b[1;33m\u001b[0m\u001b[0m\n\u001b[0;32m   1119\u001b[0m       results = self._do_run(handle, final_targets, final_fetches,\n\u001b[1;32m-> 1120\u001b[1;33m                              feed_dict_tensor, options, run_metadata)\n\u001b[0m\u001b[0;32m   1121\u001b[0m     \u001b[1;32melse\u001b[0m\u001b[1;33m:\u001b[0m\u001b[1;33m\u001b[0m\u001b[0m\n\u001b[0;32m   1122\u001b[0m       \u001b[0mresults\u001b[0m \u001b[1;33m=\u001b[0m \u001b[1;33m[\u001b[0m\u001b[1;33m]\u001b[0m\u001b[1;33m\u001b[0m\u001b[0m\n",
      "\u001b[1;32mC:\\Program Files\\Anaconda3\\lib\\site-packages\\tensorflow\\python\\client\\session.py\u001b[0m in \u001b[0;36m_do_run\u001b[1;34m(self, handle, target_list, fetch_list, feed_dict, options, run_metadata)\u001b[0m\n\u001b[0;32m   1315\u001b[0m     \u001b[1;32mif\u001b[0m \u001b[0mhandle\u001b[0m \u001b[1;32mis\u001b[0m \u001b[1;32mNone\u001b[0m\u001b[1;33m:\u001b[0m\u001b[1;33m\u001b[0m\u001b[0m\n\u001b[0;32m   1316\u001b[0m       return self._do_call(_run_fn, self._session, feeds, fetches, targets,\n\u001b[1;32m-> 1317\u001b[1;33m                            options, run_metadata)\n\u001b[0m\u001b[0;32m   1318\u001b[0m     \u001b[1;32melse\u001b[0m\u001b[1;33m:\u001b[0m\u001b[1;33m\u001b[0m\u001b[0m\n\u001b[0;32m   1319\u001b[0m       \u001b[1;32mreturn\u001b[0m \u001b[0mself\u001b[0m\u001b[1;33m.\u001b[0m\u001b[0m_do_call\u001b[0m\u001b[1;33m(\u001b[0m\u001b[0m_prun_fn\u001b[0m\u001b[1;33m,\u001b[0m \u001b[0mself\u001b[0m\u001b[1;33m.\u001b[0m\u001b[0m_session\u001b[0m\u001b[1;33m,\u001b[0m \u001b[0mhandle\u001b[0m\u001b[1;33m,\u001b[0m \u001b[0mfeeds\u001b[0m\u001b[1;33m,\u001b[0m \u001b[0mfetches\u001b[0m\u001b[1;33m)\u001b[0m\u001b[1;33m\u001b[0m\u001b[0m\n",
      "\u001b[1;32mC:\\Program Files\\Anaconda3\\lib\\site-packages\\tensorflow\\python\\client\\session.py\u001b[0m in \u001b[0;36m_do_call\u001b[1;34m(self, fn, *args)\u001b[0m\n\u001b[0;32m   1321\u001b[0m   \u001b[1;32mdef\u001b[0m \u001b[0m_do_call\u001b[0m\u001b[1;33m(\u001b[0m\u001b[0mself\u001b[0m\u001b[1;33m,\u001b[0m \u001b[0mfn\u001b[0m\u001b[1;33m,\u001b[0m \u001b[1;33m*\u001b[0m\u001b[0margs\u001b[0m\u001b[1;33m)\u001b[0m\u001b[1;33m:\u001b[0m\u001b[1;33m\u001b[0m\u001b[0m\n\u001b[0;32m   1322\u001b[0m     \u001b[1;32mtry\u001b[0m\u001b[1;33m:\u001b[0m\u001b[1;33m\u001b[0m\u001b[0m\n\u001b[1;32m-> 1323\u001b[1;33m       \u001b[1;32mreturn\u001b[0m \u001b[0mfn\u001b[0m\u001b[1;33m(\u001b[0m\u001b[1;33m*\u001b[0m\u001b[0margs\u001b[0m\u001b[1;33m)\u001b[0m\u001b[1;33m\u001b[0m\u001b[0m\n\u001b[0m\u001b[0;32m   1324\u001b[0m     \u001b[1;32mexcept\u001b[0m \u001b[0merrors\u001b[0m\u001b[1;33m.\u001b[0m\u001b[0mOpError\u001b[0m \u001b[1;32mas\u001b[0m \u001b[0me\u001b[0m\u001b[1;33m:\u001b[0m\u001b[1;33m\u001b[0m\u001b[0m\n\u001b[0;32m   1325\u001b[0m       \u001b[0mmessage\u001b[0m \u001b[1;33m=\u001b[0m \u001b[0mcompat\u001b[0m\u001b[1;33m.\u001b[0m\u001b[0mas_text\u001b[0m\u001b[1;33m(\u001b[0m\u001b[0me\u001b[0m\u001b[1;33m.\u001b[0m\u001b[0mmessage\u001b[0m\u001b[1;33m)\u001b[0m\u001b[1;33m\u001b[0m\u001b[0m\n",
      "\u001b[1;32mC:\\Program Files\\Anaconda3\\lib\\site-packages\\tensorflow\\python\\client\\session.py\u001b[0m in \u001b[0;36m_run_fn\u001b[1;34m(session, feed_dict, fetch_list, target_list, options, run_metadata)\u001b[0m\n\u001b[0;32m   1300\u001b[0m           return tf_session.TF_Run(session, options,\n\u001b[0;32m   1301\u001b[0m                                    \u001b[0mfeed_dict\u001b[0m\u001b[1;33m,\u001b[0m \u001b[0mfetch_list\u001b[0m\u001b[1;33m,\u001b[0m \u001b[0mtarget_list\u001b[0m\u001b[1;33m,\u001b[0m\u001b[1;33m\u001b[0m\u001b[0m\n\u001b[1;32m-> 1302\u001b[1;33m                                    status, run_metadata)\n\u001b[0m\u001b[0;32m   1303\u001b[0m \u001b[1;33m\u001b[0m\u001b[0m\n\u001b[0;32m   1304\u001b[0m     \u001b[1;32mdef\u001b[0m \u001b[0m_prun_fn\u001b[0m\u001b[1;33m(\u001b[0m\u001b[0msession\u001b[0m\u001b[1;33m,\u001b[0m \u001b[0mhandle\u001b[0m\u001b[1;33m,\u001b[0m \u001b[0mfeed_dict\u001b[0m\u001b[1;33m,\u001b[0m \u001b[0mfetch_list\u001b[0m\u001b[1;33m)\u001b[0m\u001b[1;33m:\u001b[0m\u001b[1;33m\u001b[0m\u001b[0m\n",
      "\u001b[1;31mKeyboardInterrupt\u001b[0m: "
     ]
    }
   ],
   "source": [
    "import cv2\n",
    "from os.path import join,exists\n",
    "from os import makedirs\n",
    "import matplotlib.pyplot as plt\n",
    "DP = DataPantograph('./Both','Final_Report2',(128,128))\n",
    "for model_number in range(1,len(AM.models)):\n",
    "    print(\"Loading the model number:\", model_number)\n",
    "    model,model_name = AM.extract_model(model_number,3)\n",
    "    if not(exists('./'+model_name)):\n",
    "            makedirs('./'+model_name)\n",
    "    for i in range(len(DP.test_names_original)):\n",
    "        image = cv2.imread(join(DP.temp_test,DP.test_names_original[i]))\n",
    "        label = cv2.imread(join(DP.temp_test,DP.test_names_original[i].replace('.png','_FIB.png')))\n",
    "        prediction = model.predict(image[np.newaxis])\n",
    "        squeezed = np.squeeze(prediction,axis = 0)\n",
    "        squeezed = np.squeeze(squeezed,axis = -1)\n",
    "        cv2.imwrite('./'+model_name+DP.test_names_original[i].replace('.png','_PRED.png'),squeezed)\n",
    "        cv2.imwrite('./'+model_name+'/'+DP.test_names_original[i].replace('.png','_PRED.png'),squeezed*255)\n",
    "        cv2.imwrite('./'+model_name+'/'+DP.test_names_original[i],image)\n",
    "#         plt.figure(figsize=(20,10))\n",
    "#         plt.imshow(image)\n",
    "#         plt.show()\n",
    "#         plt.figure(figsize=(20,10))\n",
    "#         plt.imshow(squeezed,cmap = 'gray')\n",
    "#         plt.show()\n",
    "#         plt.figure(figsize=(20,10))\n",
    "#         plt.imshow(label,cmap = 'gray')\n",
    "#         plt.show()"
   ]
  },
  {
   "cell_type": "code",
   "execution_count": null,
   "metadata": {
    "collapsed": true
   },
   "outputs": [],
   "source": []
  }
 ],
 "metadata": {
  "kernelspec": {
   "display_name": "Python 3",
   "language": "python",
   "name": "python3"
  },
  "language_info": {
   "codemirror_mode": {
    "name": "ipython",
    "version": 3
   },
   "file_extension": ".py",
   "mimetype": "text/x-python",
   "name": "python",
   "nbconvert_exporter": "python",
   "pygments_lexer": "ipython3",
   "version": "3.5.4"
  }
 },
 "nbformat": 4,
 "nbformat_minor": 2
}
