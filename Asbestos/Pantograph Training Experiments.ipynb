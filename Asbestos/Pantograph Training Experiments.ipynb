{
 "cells": [
  {
   "cell_type": "code",
   "execution_count": null,
   "metadata": {
    "collapsed": true
   },
   "outputs": [],
   "source": [
    "from DataPantograph import DataPantograph"
   ]
  },
  {
   "cell_type": "markdown",
   "metadata": {},
   "source": [
    "### Basic training"
   ]
  },
  {
   "cell_type": "code",
   "execution_count": null,
   "metadata": {
    "collapsed": true
   },
   "outputs": [],
   "source": [
    "path_name = './Hand_GT/Both'\n",
    "data_name = 'PData_1'\n",
    "size = (80,80)\n",
    "DP = DataPantograph(path_name, data_name,size = size, data_augmentation=False, train_percentage=0.63, val_percentage=0.07,\n",
    "            test_percentage=0.3,\n",
    "                 load_extension='.png')"
   ]
  },
  {
   "cell_type": "code",
   "execution_count": null,
   "metadata": {
    "collapsed": true
   },
   "outputs": [],
   "source": [
    "num_layers = 1\n",
    "optimizer = Adam(lr = 1)\n",
    "PN = PantographNetwork( DP,\n",
    "                 classes=2,\n",
    "                 initial_features=32,\n",
    "                 num_layers=3,\n",
    "                 loss=\"binary_crossentropy\",\n",
    "                 optimizer=optimizer,\n",
    "                 data_type='.png',  hard_example_epochs = 0, hard_examples_per_image = 0,channels = 3)"
   ]
  },
  {
   "cell_type": "code",
   "execution_count": null,
   "metadata": {
    "collapsed": true
   },
   "outputs": [],
   "source": [
    "\n",
    "PN.train_model('/home/ubuntu/PData_1/Base_Train',batch_size_train=10,batch_size_val=1,epochs = 150)"
   ]
  },
  {
   "cell_type": "code",
   "execution_count": null,
   "metadata": {
    "collapsed": true
   },
   "outputs": [],
   "source": [
    "%reset -f"
   ]
  },
  {
   "cell_type": "markdown",
   "metadata": {},
   "source": [
    "### Hard Example Training\n"
   ]
  },
  {
   "cell_type": "code",
   "execution_count": null,
   "metadata": {
    "collapsed": true
   },
   "outputs": [],
   "source": [
    "optimizer = Adam(lr = 1)\n",
    "path_name = './Hand_GT/Both'\n",
    "data_name = 'PData_1'\n",
    "size = (80,80)\n",
    "num_layers = 1\n",
    "PHE = PantographHardExamples(path_name=path_name,data_name=data_name,size=size,num_layers = num_layers,channels = 3,\n",
    "                             file_type_load='.png',data_type = '.png',\n",
    "                            optimizer = optimizer)"
   ]
  },
  {
   "cell_type": "code",
   "execution_count": null,
   "metadata": {
    "collapsed": true
   },
   "outputs": [],
   "source": [
    "PHE.hard_example_training('/PData_1/Hard_Examples',batch_size_train = 10,batch_size_val=1,epochs_per_training=70,hard_example_epochs = 2,\n",
    "                          HE_per_image = 2)"
   ]
  }
 ],
 "metadata": {
  "kernelspec": {
   "display_name": "Python 3",
   "language": "python",
   "name": "python3"
  },
  "language_info": {
   "codemirror_mode": {
    "name": "ipython",
    "version": 3
   },
   "file_extension": ".py",
   "mimetype": "text/x-python",
   "name": "python",
   "nbconvert_exporter": "python",
   "pygments_lexer": "ipython3",
   "version": "3.5.4"
  }
 },
 "nbformat": 4,
 "nbformat_minor": 2
}
